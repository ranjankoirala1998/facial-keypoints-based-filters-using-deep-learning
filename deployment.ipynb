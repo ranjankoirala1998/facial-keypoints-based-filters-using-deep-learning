{
 "metadata": {
  "language_info": {
   "codemirror_mode": {
    "name": "ipython",
    "version": 3
   },
   "file_extension": ".py",
   "mimetype": "text/x-python",
   "name": "python",
   "nbconvert_exporter": "python",
   "pygments_lexer": "ipython3",
   "version": "3.8.9"
  },
  "orig_nbformat": 2,
  "kernelspec": {
   "name": "python389jvsc74a57bd0e514e8fb66f3ffe4f97051a3575f23813373bb532cd5a243c27d050192f765fb",
   "display_name": "Python 3.8.9 64-bit ('env')"
  }
 },
 "nbformat": 4,
 "nbformat_minor": 2,
 "cells": [
  {
   "cell_type": "code",
   "execution_count": 1,
   "metadata": {},
   "outputs": [],
   "source": [
    "import numpy as np\n",
    "import cv2\n",
    "from keras.models import load_model"
   ]
  },
  {
   "cell_type": "code",
   "execution_count": 2,
   "metadata": {},
   "outputs": [],
   "source": [
    "model = load_model('model.h5')"
   ]
  },
  {
   "cell_type": "code",
   "execution_count": 3,
   "metadata": {},
   "outputs": [],
   "source": [
    "face_cascade = cv2.CascadeClassifier('cascade/haarcascade_frontalface_default.xml')"
   ]
  },
  {
   "cell_type": "code",
   "execution_count": null,
   "metadata": {
    "tags": []
   },
   "outputs": [],
   "source": [
    "# capture = cv2.VideoCapture(0)\n",
    "\n",
    "# while True :\n",
    "#     ret, image = capture.read()\n",
    "\n",
    "#     gray = cv2.cvtColor(image, cv2.COLOR_BGR2GRAY)\n",
    "#     faces = face_cascade.detectMultiScale(gray, 1.3, 5)\n",
    "     \n",
    "#     for (x, y, w, h) in faces:\n",
    "#         # cv2.rectangle(image, (x,y), (x+w, y+h), (255, 0, 0), 2)\n",
    "#         roi_gray = gray[y:y+h, x:x+w]\n",
    "#         roi_color = image[y:y+h, x:x+w]\n",
    "        \n",
    "#         width_original = roi_gray.shape[1] \n",
    "#         height_original = roi_gray.shape[0]\n",
    "\n",
    "#         img_gray = cv2.resize(roi_gray, (96, 96))\n",
    "#         img_gray = img_gray/255\n",
    "        \n",
    "#         img_model = np.reshape(img_gray, (1,96,96,1))\n",
    "#         keypoints = model.predict(img_model)[0]\n",
    "        \n",
    "#         x_coords = keypoints[0::2]\n",
    "#         y_coords = keypoints[1::2]\n",
    "\n",
    "#         x_coords_denormalized = (x_coords / 96) * width_original + x \n",
    "#         y_coords_denormalized = (y_coords / 96) * height_original + y\n",
    "\n",
    "#         for i in range(15) :\n",
    "#             cv2.circle(image, (round(x_coords_denormalized[i]), round(y_coords_denormalized[i])), 2, (255, 255, 0), -1)\n",
    "\n",
    "\n",
    "#     cv2.imshow('Webcam',image)\n",
    "\n",
    "#     if cv2.waitKey(1) & 0xFF == ord(\"q\") :\n",
    "#         break\n",
    "\n",
    "# capture.release()\n",
    "# cv2.destroyAllWindows()\n"
   ]
  },
  {
   "cell_type": "code",
   "execution_count": null,
   "metadata": {},
   "outputs": [],
   "source": []
  }
 ]
}